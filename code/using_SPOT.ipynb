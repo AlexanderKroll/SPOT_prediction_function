{
 "cells": [
  {
   "cell_type": "code",
   "execution_count": 1,
   "metadata": {},
   "outputs": [
    {
     "name": "stderr",
     "output_type": "stream",
     "text": [
      "/Users/kroll/miniconda3/envs/SPOT/lib/python3.11/site-packages/tqdm/auto.py:21: TqdmWarning: IProgress not found. Please update jupyter and ipywidgets. See https://ipywidgets.readthedocs.io/en/stable/user_install.html\n",
      "  from .autonotebook import tqdm as notebook_tqdm\n",
      "Some weights of the model checkpoint at ../data/761d6a18cf99db371e0b43baf3e2d21b3e865a20 were not used when initializing RobertaForMaskedLM: ['roberta.pooler.dense.bias', 'roberta.pooler.dense.weight']\n",
      "- This IS expected if you are initializing RobertaForMaskedLM from the checkpoint of a model trained on another task or with another architecture (e.g. initializing a BertForSequenceClassification model from a BertForPreTraining model).\n",
      "- This IS NOT expected if you are initializing RobertaForMaskedLM from the checkpoint of a model that you expect to be exactly identical (initializing a BertForSequenceClassification model from a BertForSequenceClassification model).\n"
     ]
    }
   ],
   "source": [
    "from prediction import SPOT_predicton"
   ]
  },
  {
   "cell_type": "code",
   "execution_count": 4,
   "metadata": {},
   "outputs": [
    {
     "name": "stdout",
     "output_type": "stream",
     "text": [
      "Step 1/3: Calculating numerical representations (ChemBERTas) for all metabolites.\n",
      "Step 2/3: Calculating numerical representations for all proteins.\n",
      ".....2(a) Loading ESM-1b model.\n",
      ".....2(b) Calculating protein representations.\n",
      "Step 3/3: Making predictions.\n",
      "(4, 767) (4, 1280)\n"
     ]
    },
    {
     "data": {
      "text/html": [
       "<div>\n",
       "<style scoped>\n",
       "    .dataframe tbody tr th:only-of-type {\n",
       "        vertical-align: middle;\n",
       "    }\n",
       "\n",
       "    .dataframe tbody tr th {\n",
       "        vertical-align: top;\n",
       "    }\n",
       "\n",
       "    .dataframe thead th {\n",
       "        text-align: right;\n",
       "    }\n",
       "</style>\n",
       "<table border=\"1\" class=\"dataframe\">\n",
       "  <thead>\n",
       "    <tr style=\"text-align: right;\">\n",
       "      <th></th>\n",
       "      <th>Molecules</th>\n",
       "      <th>Proteins</th>\n",
       "      <th>valid input</th>\n",
       "      <th>metabolite in training set</th>\n",
       "      <th>#metabolite in training set</th>\n",
       "      <th>Prediction score</th>\n",
       "    </tr>\n",
       "  </thead>\n",
       "  <tbody>\n",
       "    <tr>\n",
       "      <th>0</th>\n",
       "      <td>InChI=1S/C6H12O6/c7-1-2-3(8)4(9)5(10)6(11)12-2...</td>\n",
       "      <td>MSLFNTENTWAFVFGLLGNLISFAVFLSPVPTFYRIWKKKTTEGFQ...</td>\n",
       "      <td>True</td>\n",
       "      <td>False</td>\n",
       "      <td>0</td>\n",
       "      <td>0.124</td>\n",
       "    </tr>\n",
       "    <tr>\n",
       "      <th>1</th>\n",
       "      <td>InChI=1S/C2H6O/c1-2-3/h3H,2H2,1H3</td>\n",
       "      <td>MKGRRRRRREYCKFALLLVLYTLVLLLVPSVLDMSLFNTENTWAFV...</td>\n",
       "      <td>True</td>\n",
       "      <td>False</td>\n",
       "      <td>0</td>\n",
       "      <td>0.167</td>\n",
       "    </tr>\n",
       "    <tr>\n",
       "      <th>2</th>\n",
       "      <td>InChI=1S/C5H5N5O/c6-5-9-3-2(4(11)10-5)7-1-8-3/...</td>\n",
       "      <td>MSLFNTENTWAFVFGLLGNLISFAVFLSPVPTFYRIWKKKTTEGFQ...</td>\n",
       "      <td>True</td>\n",
       "      <td>False</td>\n",
       "      <td>0</td>\n",
       "      <td>0.142</td>\n",
       "    </tr>\n",
       "    <tr>\n",
       "      <th>3</th>\n",
       "      <td>InChI=1S/C12H22O11/c13-1-4-6(16)8(18)9(19)11(2...</td>\n",
       "      <td>MSLFNTENTWAFVFGLLGNLISFAVFLSPVPTFYRIWKKKTTEGFQ...</td>\n",
       "      <td>True</td>\n",
       "      <td>False</td>\n",
       "      <td>0</td>\n",
       "      <td>0.935</td>\n",
       "    </tr>\n",
       "  </tbody>\n",
       "</table>\n",
       "</div>"
      ],
      "text/plain": [
       "                                           Molecules  \\\n",
       "0  InChI=1S/C6H12O6/c7-1-2-3(8)4(9)5(10)6(11)12-2...   \n",
       "1                  InChI=1S/C2H6O/c1-2-3/h3H,2H2,1H3   \n",
       "2  InChI=1S/C5H5N5O/c6-5-9-3-2(4(11)10-5)7-1-8-3/...   \n",
       "3  InChI=1S/C12H22O11/c13-1-4-6(16)8(18)9(19)11(2...   \n",
       "\n",
       "                                            Proteins  valid input  \\\n",
       "0  MSLFNTENTWAFVFGLLGNLISFAVFLSPVPTFYRIWKKKTTEGFQ...         True   \n",
       "1  MKGRRRRRREYCKFALLLVLYTLVLLLVPSVLDMSLFNTENTWAFV...         True   \n",
       "2  MSLFNTENTWAFVFGLLGNLISFAVFLSPVPTFYRIWKKKTTEGFQ...         True   \n",
       "3  MSLFNTENTWAFVFGLLGNLISFAVFLSPVPTFYRIWKKKTTEGFQ...         True   \n",
       "\n",
       "   metabolite in training set  #metabolite in training set  Prediction score  \n",
       "0                       False                            0             0.124  \n",
       "1                       False                            0             0.167  \n",
       "2                       False                            0             0.142  \n",
       "3                       False                            0             0.935  "
      ]
     },
     "execution_count": 4,
     "metadata": {},
     "output_type": "execute_result"
    }
   ],
   "source": [
    "substrates = [\"InChI=1S/C6H12O6/c7-1-2-3(8)4(9)5(10)6(11)12-2/h2-11H,1H2/t2-,3-,4+,5-,6?/m1/s1\",\n",
    "              \"InChI=1S/C2H6O/c1-2-3/h3H,2H2,1H3\",\n",
    "             \"InChI=1S/C5H5N5O/c6-5-9-3-2(4(11)10-5)7-1-8-3/h1H,(H4,6,7,8,9,10,11)\",\n",
    "             \"InChI=1S/C12H22O11/c13-1-4-6(16)8(18)9(19)11(21-4)23-12(3-15)10(20)7(17)5(2-14)22-12/h4-11,13-20H,1-3H2/t4-,5-,6-,7-,8+,9-,10+,11-,12+/m1/s1\",\n",
    "             ]\n",
    "proteins = [\"MSLFNTENTWAFVFGLLGNLISFAVFLSPVPTFYRIWKKKTTEGFQSIPYVVALFSATLWLYYATQKKDVFLLVTINAFGCFIETIYISMFLAYAPKPARMLTVKMLLLMNFGGFCAILLLCQFLVKGATRAKIIGGICVGFSVCVFAAPLSIIRTVIKTRSVEYMPFSLSLTLTISAVIWLLYGLALKDIYVAFPNVLGFALGALQMILYVVYKYCKTSPHLGEKEVEAAKLPEVSLDMLKLGTVSSPEPISVVRQANKCTCGNDRRAEIEDGQTPKHGKQSSSAAAT\",\n",
    "           \"MKGRRRRRREYCKFALLLVLYTLVLLLVPSVLDMSLFNTENTWAFVFGLLGNLISFAVFLSPVPTFYRIWKKKTTEGFQSIPYVVALFSATLWLYYATQKKDVFLLVTINAFGCFIETIYISMFLAYAPKPARMLTVKMLLLMNFGGFCAILLLCQFLVKGATRAKIIGGICVGFSVCVFAAPLSIIRTVIKTRSVEYMPFSLSLTLTISAVIWLLYGLALKDIYVAFPNVLGFALGALQMILYVVYKYCKTSPHLGEKEVEAAKLPEVSLDMLKLGTVSSPEPISVVRQANKCTCGNDRRAEIEDGQTPKHGKQSSSAAATGGRDGDKGAEHCPGLQRSLGVWSLEAAAAGEREQGAEARAAEEGGANQSPRFPSNLSGAVGEAVSREKQHIYVHATWRTGSSFLGELFNQHPDVFYLYEPMWHLWQALYPGDAESLQGALRDMLRSLFRCDFSVLRLYAPPGDPAARAPDTANLTTAALFRWRTNKVICSPPLCPGAPRARAEVGLVEDTACERSCPPVAIRALEAECRKYPVVVIKDVRLLDLGVLVPLLRDPGLNLKVVQLFRDPRAVHNSRLKSRQGLLRESIQVLRTRQRGDRFHRVLLAHGVGARPGGQSRALPAAPRADFFLTGALEVICEAWLRDLLFARGAPAWLRRRYLRLRYEDLVRQPRAQLRRLLRFSGLRALAALDAFALNMTRGAAYGADRPFHLSARDAREAVHAWRERLSREQVRQVEAACAPAMRLLAYPRSGEEGDAEQPREGETPLEMDADGAT\",\n",
    "          \"MSLFNTENTWAFVFGLLGNLISFAVFLSPVPTFYRIWKKKTTEGFQSIPYVVALFSATLWLYYATQKKDVFLLVTINAFGCFIETIYISMFLAYAPKPARMLTVKMLLLMNFGGFCAILLLCQFLVKGATRAKIIGGICVGFSVCVFAAPLSIIRTVIKTRSVEYMPFSLSLTLTISAVIWLLYGLALKDIYVAFPNVLGFALGALQMILYVVYKYCKTSPHLGEKEVEAAKLPEVSLDMLKLGTVSSPEPISVVRQANKCTCGNDRRAEIEDGQTPKHGKQSSSAAAT\",\n",
    "          \"MSLFNTENTWAFVFGLLGNLISFAVFLSPVPTFYRIWKKKTTEGFQSIPYVVALFSATLWLYYATQKKDVFLLVTINAFGCFIETIYISMFLAYAPKPARMLTVKMLLLMNFGGFCAILLLCQFLVKGATRAKIIGGICVGFSVCVFAAPLSIIRTVIKTRSVEYMPFSLSLTLTISAVIWLLYGLALKDIYVAFPNVLGFALGALQMILYVVYKYCKTSPHLGEKEVEAAKLPEVSLDMLKLGTVSSPEPISVVRQANKCTCGNDRRAEIEDGQTPKHGKQSSSAAAT\"\n",
    "          \n",
    "          ]\n",
    "df = SPOT_predicton(substrate_list = substrates, protein_list = proteins)\n",
    "df"
   ]
  }
 ],
 "metadata": {
  "kernelspec": {
   "display_name": "SPOT",
   "language": "python",
   "name": "python3"
  },
  "language_info": {
   "codemirror_mode": {
    "name": "ipython",
    "version": 3
   },
   "file_extension": ".py",
   "mimetype": "text/x-python",
   "name": "python",
   "nbconvert_exporter": "python",
   "pygments_lexer": "ipython3",
   "version": "3.11.10"
  }
 },
 "nbformat": 4,
 "nbformat_minor": 2
}
